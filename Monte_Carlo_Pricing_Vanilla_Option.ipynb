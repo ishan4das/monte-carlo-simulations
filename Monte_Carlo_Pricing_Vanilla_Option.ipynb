{
  "nbformat": 4,
  "nbformat_minor": 0,
  "metadata": {
    "colab": {
      "name": "Monte Carlo Pricing Vanilla Option.ipynb",
      "provenance": [],
      "authorship_tag": "ABX9TyPhsU5TY9MYX/eZME24BUeb",
      "include_colab_link": true
    },
    "kernelspec": {
      "name": "python3",
      "display_name": "Python 3"
    }
  },
  "cells": [
    {
      "cell_type": "markdown",
      "metadata": {
        "id": "view-in-github",
        "colab_type": "text"
      },
      "source": [
        "<a href=\"https://colab.research.google.com/github/ishan4das/monte-carlo-simulations/blob/main/Monte_Carlo_Pricing_Vanilla_Option.ipynb\" target=\"_parent\"><img src=\"https://colab.research.google.com/assets/colab-badge.svg\" alt=\"Open In Colab\"/></a>"
      ]
    },
    {
      "cell_type": "code",
      "metadata": {
        "id": "_qHU-eaqEvJ1",
        "outputId": "a8cec7b7-34ed-4d63-a4a4-ec1ae6c8e4f3",
        "colab": {
          "base_uri": "https://localhost:8080/",
          "height": 35
        }
      },
      "source": [
        "import numpy as np\n",
        "import math \n",
        "\n",
        "class StochasticProcess:\n",
        "\n",
        "  def time_step(self):\n",
        "    dW = np.random.normal(0, math.sqrt(self.delta_t))\n",
        "    dS = self.drift*self.current_asset_price*self.delta_t + self.asset_volatility*self.current_asset_price*dW\n",
        "    self.asset_prices.append(self.current_asset_price +dS)\n",
        "    self.current_asset_price = self.current_asset_price + dS\n",
        "\n",
        "  def __init__ (self , asset_price , drift , delta_t , asset_volatility):\n",
        "    self.current_asset_price = asset_price\n",
        "    self.asset_prices = [] \n",
        "    self.asset_prices.append(asset_price) \n",
        "    self.drift = drift\n",
        "    self.delta_t = delta_t \n",
        "    self.asset_volatility = asset_volatility\n",
        "\n",
        "  \n",
        "class Call :\n",
        "  def __init__(self , strike):\n",
        "    self.strike = strike\n",
        "\n",
        "class EuroCallSimulation: \n",
        "\n",
        "  def __init__(self , Call , n_options , initial_asset_price , drift, delta_t , volatility, time_to_exp , risk_free_rate ):\n",
        "    stochastic_processes = [] \n",
        "    for i in range(0 , n_options):\n",
        "      stochastic_processes.append(StochasticProcess(initial_asset_price , drift, delta_t , volatility))\n",
        "    \n",
        "    for stochastic_process in stochastic_processes:\n",
        "      tte = time_to_exp \n",
        "      while ((tte - stochastic_process.delta_t) > 0  ):\n",
        "        tte = tte - stochastic_process.delta_t \n",
        "        stochastic_process.time_step() \n",
        "    \n",
        "    payoffs = [] \n",
        "    for stochastic_process in stochastic_processes:\n",
        "      payoff = stochastic_process.asset_prices[len(stochastic_process.asset_prices) - 1] - Call.strike\n",
        "      z = payoff if payoff > 0 else 0 \n",
        "      payoffs.append(z)\n",
        "\n",
        "    self.price = np.average(payoffs)*math.exp(-time_to_exp*risk_free_rate)\n",
        "\n",
        "\n",
        "print(EuroCallSimulation(Call(130) , 1000 , 295.48 , 0 , 1/365 , 1.0625 , 36/365, 0.08).price)"
      ],
      "execution_count": 10,
      "outputs": [
        {
          "output_type": "stream",
          "text": [
            "163.54936304989397\n"
          ],
          "name": "stdout"
        }
      ]
    },
    {
      "cell_type": "code",
      "metadata": {
        "id": "CQgbmeq8IRIT"
      },
      "source": [
        ""
      ],
      "execution_count": null,
      "outputs": []
    }
  ]
}